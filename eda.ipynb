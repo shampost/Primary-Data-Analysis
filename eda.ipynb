{
 "cells": [
  {
   "cell_type": "code",
   "execution_count": 3,
   "metadata": {},
   "outputs": [],
   "source": [
    "import pandas as pd\n",
    "import numpy as np\n",
    "pd.set_option('display.max_columns', None)"
   ]
  },
  {
   "cell_type": "code",
   "execution_count": 4,
   "metadata": {},
   "outputs": [
    {
     "name": "stderr",
     "output_type": "stream",
     "text": [
      "C:\\Users\\campo\\AppData\\Local\\Temp\\ipykernel_22648\\3755775231.py:1: DtypeWarning: Columns (20,60,66,67,78,79,86,96,103,105,110) have mixed types. Specify dtype option on import or set low_memory=False.\n",
      "  df = pd.read_csv('raw/ADAMS.txt')\n"
     ]
    }
   ],
   "source": [
    "df = pd.read_csv('raw/ADAMS.txt')"
   ]
  },
  {
   "cell_type": "code",
   "execution_count": 9,
   "metadata": {},
   "outputs": [],
   "source": [
    "columns_to_remove = ['MIDDLE_NAME',\n",
    "                     'SUFFIX',\n",
    "                     'RESIDENTIAL_SECONDARY_ADDR',\n",
    "                     'RESIDENTIAL_ZIP_PLUS4',\n",
    "                     'RESIDENTIAL_COUNTRY',\n",
    "                     'RESIDENTIAL_POSTALCODE',\n",
    "                     'MAILING_ADDRESS1',\n",
    "                     'MAILING_SECONDARY_ADDRESS',\n",
    "                     'MAILING_CITY',\n",
    "                     'MAILING_STATE',\n",
    "                     'MAILING_ZIP',\n",
    "                     'MAILING_ZIP_PLUS4',\n",
    "                     'MAILING_COUNTRY',\n",
    "                     'MAILING_POSTAL_CODE',\n",
    "                     'CAREER_CENTER',\n",
    "                     'CIT',\n",
    "                     'CITY_SCHOOL_DISTRICT',\n",
    "                     'COUNTY_COURT_DISTRICT',\n",
    "                     'EXEMPTED_VILL_SCHOOL_DISTRICT',\n",
    "                     'LIBRARY',\n",
    "                     'MUNICIPAL_COURT_DISTRICT',\n",
    "                     'PRECINCT_NAME',\n",
    "                     'PRECINCT_CODE',\n",
    "                     'TOWNSHIP',\n",
    "                     'VILLAGE',\n",
    "                     'WARD']\n",
    "\n",
    "# remove columns using columns_to_remove\n",
    "df.drop(columns_to_remove, axis=1, inplace=True)"
   ]
  },
  {
   "cell_type": "code",
   "execution_count": 13,
   "metadata": {},
   "outputs": [],
   "source": [
    "# remove columns containing word 'GENERAL' and 'SPECIAL'\n",
    "df = df.loc[:, ~df.columns.str.contains('GENERAL')]\n",
    "df = df.loc[:, ~df.columns.str.contains('SPECIAL')]"
   ]
  },
  {
   "cell_type": "code",
   "execution_count": 26,
   "metadata": {},
   "outputs": [],
   "source": [
    "column_primary_to_remove = ['PRIMARY-03/07/2000', 'PRIMARY-05/07/2002', 'PRIMARY-03/02/2004',\n",
    "                            'PRIMARY-05/03/2005', 'PRIMARY-09/13/2005', 'PRIMARY-05/02/2006',\n",
    "                            'PRIMARY-05/08/2007', 'PRIMARY-09/11/2007', 'PRIMARY-11/06/2007',\n",
    "                            'PRIMARY-03/04/2008', 'PRIMARY-10/14/2008', 'PRIMARY-05/05/2009',\n",
    "                            'PRIMARY-09/08/2009', 'PRIMARY-09/15/2009', 'PRIMARY-09/29/2009',\n",
    "                            'PRIMARY-05/04/2010', 'PRIMARY-07/13/2010', 'PRIMARY-09/07/2010',\n",
    "                            'PRIMARY-05/03/2011', 'PRIMARY-09/13/2011', 'PRIMARY-03/06/2012',\n",
    "                            'PRIMARY-05/07/2013', 'PRIMARY-09/10/2013', 'PRIMARY-10/01/2013',\n",
    "                            'PRIMARY-05/06/2014', 'PRIMARY-05/05/2015', 'PRIMARY-09/15/2015',\n",
    "                            'PRIMARY-03/15/2016', 'PRIMARY-09/13/2016', 'PRIMARY-05/02/2017',\n",
    "                            'PRIMARY-09/12/2017', 'PRIMARY-05/07/2019', 'PRIMARY-09/10/2019',\n",
    "                            'PRIMARY-03/17/2020', 'PRIMARY-05/04/2021', 'PRIMARY-08/03/2021', 'PRIMARY-09/14/2021']"
   ]
  },
  {
   "cell_type": "code",
   "execution_count": 24,
   "metadata": {},
   "outputs": [],
   "source": [
    "df.drop(column_primary_to_remove, axis=1, inplace=True)"
   ]
  }
 ],
 "metadata": {
  "kernelspec": {
   "display_name": "Python 3.9.7 ('base')",
   "language": "python",
   "name": "python3"
  },
  "language_info": {
   "codemirror_mode": {
    "name": "ipython",
    "version": 3
   },
   "file_extension": ".py",
   "mimetype": "text/x-python",
   "name": "python",
   "nbconvert_exporter": "python",
   "pygments_lexer": "ipython3",
   "version": "3.9.7"
  },
  "orig_nbformat": 4,
  "vscode": {
   "interpreter": {
    "hash": "242b1f526160483491dbdf9f481114dfb01ac1f0884ca2cde58446f67840dfb4"
   }
  }
 },
 "nbformat": 4,
 "nbformat_minor": 2
}
